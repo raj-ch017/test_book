{
 "cells": [
  {
   "cell_type": "markdown",
   "metadata": {},
   "source": [
    "# Chapter 6 - Random\n",
    "\n",
    "### author: @raj-ch017"
   ]
  },
  {
   "cell_type": "markdown",
   "metadata": {},
   "source": [
    "---\n",
    "\n",
    "### 052 \n",
    "\n",
    "Display a random integer between 1 and 100 inclusive."
   ]
  },
  {
   "cell_type": "code",
   "execution_count": 1,
   "metadata": {},
   "outputs": [],
   "source": [
    "import random"
   ]
  },
  {
   "cell_type": "code",
   "execution_count": 5,
   "metadata": {},
   "outputs": [
    {
     "name": "stdout",
     "output_type": "stream",
     "text": [
      "Here is a random integer for you: 86\n"
     ]
    }
   ],
   "source": [
    "a_value = random.randint(1,100)\n",
    "\n",
    "print(\"Here is a random integer for you: {}\".format(a_value))"
   ]
  },
  {
   "cell_type": "markdown",
   "metadata": {},
   "source": [
    "---\n",
    "\n",
    "### 053\n",
    "\n",
    "Display a random fruit from a list of five fruits."
   ]
  },
  {
   "cell_type": "code",
   "execution_count": 12,
   "metadata": {},
   "outputs": [
    {
     "name": "stdout",
     "output_type": "stream",
     "text": [
      "Here is a randomly choosen fruit for you: Strawberry\n"
     ]
    }
   ],
   "source": [
    "fruit_list = [\"apple\",\"water melon\",\"pineapple\",\"strawberry\",\"mango\"]\n",
    "\n",
    "random_fruit = random.choice(fruit_list).title()\n",
    "\n",
    "print(\"Here is a randomly choosen fruit for you: {}\".format(random_fruit))"
   ]
  },
  {
   "cell_type": "markdown",
   "metadata": {},
   "source": [
    "---\n",
    "\n",
    "### 054\n",
    "\n",
    "Randomly choose either heads or tails ('h' or 't').\n",
    "\n",
    "Ask the user to make their choice. If their choice is the same as the randomly selected value, display the message:\n",
    "\n",
    "            \"You win\"\n",
    "\n",
    "Otherwise, display:\n",
    "\n",
    "            \"Bad luck\"\n",
    "\n",
    "At the end, tell the user if the computer selected head or tail."
   ]
  },
  {
   "cell_type": "code",
   "execution_count": 17,
   "metadata": {},
   "outputs": [
    {
     "name": "stdout",
     "output_type": "stream",
     "text": [
      "You win! \n",
      "The computer selected Heads as well!\n"
     ]
    }
   ],
   "source": [
    "head_tail = ['h','t']\n",
    "head_tail_dict = {'h' : 'Heads', 't' : 'Tails'}\n",
    "\n",
    "comp_choice = random.choice(head_tail)\n",
    "comp_output = head_tail_dict[comp_choice]\n",
    "\n",
    "user_choice = input(\"Choose between Heads and Tails: \").lower()\n",
    "\n",
    "if user_choice[0] == comp_choice:\n",
    "\n",
    "    print(\"You win! \\nThe computer selected {} as well!\".format(comp_output))\n",
    "\n",
    "else:\n",
    "\n",
    "    print(\"Bad luck. \\nThe computer selected {}.\".format(comp_output))\n",
    "\n"
   ]
  },
  {
   "cell_type": "markdown",
   "metadata": {},
   "source": [
    "---\n",
    "\n",
    "### 055\n",
    "\n",
    "Randomly choose a number between 1 and 5.\n",
    "\n",
    "Ask the user to pick a number. If they guess correcly, display the message:\n",
    "\n",
    "            \"Well done\"\n",
    "\n",
    "Otherwise tell them if they are too high or too low and ask them to pick a second number.\n",
    "\n",
    "If they guess correcly on their second guess, display:\n",
    "\n",
    "            \"Correct\"\n",
    "\n",
    "Otherwise display:\n",
    "\n",
    "            \"You lose\""
   ]
  },
  {
   "cell_type": "code",
   "execution_count": 23,
   "metadata": {},
   "outputs": [
    {
     "name": "stdout",
     "output_type": "stream",
     "text": [
      "Your guess was too low. Try again.\n",
      "Correct\n"
     ]
    }
   ],
   "source": [
    "rand_int = random.randint(1,5)\n",
    "\n",
    "user_pick1 = int(input(\"Enter a number: \"))\n",
    "\n",
    "if user_pick1 == rand_int:\n",
    "\n",
    "    print(\"Well done\")\n",
    "\n",
    "else:\n",
    "\n",
    "    if user_pick1 > rand_int:\n",
    "        print(\"Your guess was too high. Try again.\")\n",
    "    \n",
    "    else:\n",
    "        print(\"Your guess was too low. Try again.\")\n",
    "\n",
    "    user_pick2 = int(input(\"Enter another number: \"))\n",
    "\n",
    "    if user_pick2 == rand_int:\n",
    "        print(\"Correct\")\n",
    "    else:\n",
    "        print(\"You lose\")\n",
    "\n"
   ]
  },
  {
   "cell_type": "markdown",
   "metadata": {},
   "source": [
    "---\n",
    "\n",
    "### 056\n",
    "\n",
    "Randomly pick a whole number between 1 and 10 Ask the user to enter a number and keep entering numbers until they enter the number that was randomly picked.\n"
   ]
  },
  {
   "cell_type": "code",
   "execution_count": 25,
   "metadata": {},
   "outputs": [
    {
     "name": "stdout",
     "output_type": "stream",
     "text": [
      "That did not match. Try again!\n",
      "That did not match. Try again!\n",
      "That did not match. Try again!\n",
      "That did not match. Try again!\n",
      "That did not match. Try again!\n",
      "That did not match. Try again!\n",
      "That did not match. Try again!\n",
      "That did not match. Try again!\n",
      "Your guess of 1 is correct. It took you 9 attempt(s)\n"
     ]
    }
   ],
   "source": [
    "random_number = random.randint(1,10)\n",
    "\n",
    "flag = False \n",
    "count = 0\n",
    "\n",
    "while not flag:\n",
    "\n",
    "    user_in = int(input(\"Enter a number: \"))\n",
    "    count += 1\n",
    "\n",
    "    if user_in == random_number:\n",
    "        print(\"Your guess of {} is correct. It took you {} attempt(s)\".format(user_in,count))\n",
    "        flag = True\n",
    "\n",
    "    else:\n",
    "        print(\"That did not match. Try again!\")"
   ]
  },
  {
   "cell_type": "markdown",
   "metadata": {},
   "source": [
    "---\n",
    "\n",
    "\n",
    "### 057 \n",
    "\n",
    "Update the program 056 so that it tells the user if they are too high or too low before they pick again."
   ]
  },
  {
   "cell_type": "code",
   "execution_count": 26,
   "metadata": {},
   "outputs": [
    {
     "name": "stdout",
     "output_type": "stream",
     "text": [
      "Your guess was too low. Try again!\n",
      "Your guess was too low. Try again!\n",
      "Your guess was too low. Try again!\n",
      "Your guess of 9 is correct. It took you 4 attempt(s)\n"
     ]
    }
   ],
   "source": [
    "random_number = random.randint(1,10)\n",
    "\n",
    "flag = False \n",
    "count = 0\n",
    "\n",
    "while not flag:\n",
    "\n",
    "    user_in = int(input(\"Enter a number: \"))\n",
    "    count += 1\n",
    "\n",
    "    if user_in == random_number:\n",
    "        print(\"Your guess of {} is correct. It took you {} attempt(s)\".format(user_in,count))\n",
    "        flag = True\n",
    "\n",
    "    else:\n",
    "\n",
    "        if user_in > random_number:\n",
    "            print(\"Your guess was too high. Try again!\")\n",
    "        else:\n",
    "            print(\"Your guess was too low. Try again!\")"
   ]
  },
  {
   "cell_type": "markdown",
   "metadata": {},
   "source": [
    "---\n",
    "\n",
    "### 058\n",
    "\n",
    "Make a maths quiz that asks five questions by randomly generating two whole numbers to make the question.\n",
    "\n",
    "Example:\n",
    "\n",
    "            [num1] + [num2]\n",
    "\n",
    "Ask the user to enter the answer.\n",
    "\n",
    "If they get it right add a point to their score. At the end of the quiz, tell them how many they got correct out of five."
   ]
  },
  {
   "cell_type": "code",
   "execution_count": 35,
   "metadata": {},
   "outputs": [
    {
     "name": "stdout",
     "output_type": "stream",
     "text": [
      "Question:\n",
      " 13 - 25 = ?\n",
      "Question:\n",
      " 17 * 15 = ?\n",
      "Question:\n",
      " 11 + 24 = ?\n",
      "Question:\n",
      " 16 - 19 = ?\n",
      "Question:\n",
      " 18 + 13 = ?\n",
      "You got 4 answers right out of 5.\n"
     ]
    }
   ],
   "source": [
    "operators = [1,2,3]\n",
    "\n",
    "\n",
    "point, count = 0, 0\n",
    "\n",
    "while count < 5:\n",
    "\n",
    "    num1 = random.randint(1,25)\n",
    "    num2 = random.randint(1,25)\n",
    "\n",
    "    operator_choice = random.choice(operators)\n",
    "\n",
    "\n",
    "    if operator_choice == 1:\n",
    "\n",
    "        print(\"Question:\\n {} + {} = ?\".format(num1,num2))\n",
    "        the_answer = int(input(\"The answer is: \"))\n",
    "\n",
    "        if the_answer == (num1 + num2):\n",
    "            point += 1\n",
    "\n",
    "    elif operator_choice == 2:\n",
    "\n",
    "        print(\"Question:\\n {} - {} = ?\".format(num1,num2))\n",
    "        the_answer = int(input(\"The answer is: \"))\n",
    "\n",
    "        if the_answer == (num1 - num2):\n",
    "            point += 1\n",
    "\n",
    "    elif operator_choice == 3:\n",
    "\n",
    "        print(\"Question:\\n {} * {} = ?\".format(num1,num2))\n",
    "        the_answer = int(input(\"The answer is: \"))\n",
    "\n",
    "        if the_answer == (num1 * num2):\n",
    "            point += 1\n",
    "\n",
    "    count += 1\n",
    "\n",
    "print(\"You got {} answers right out of 5.\".format(point))\n",
    "\n"
   ]
  },
  {
   "cell_type": "markdown",
   "metadata": {},
   "source": [
    "---\n",
    "\n",
    "### 059\n",
    "\n",
    "Display five colors and ask the user to pick one. If they pick the same as the program has chosen, say:\n",
    "\n",
    "            \"Well done\"\n",
    "\n",
    "Otherwise, display a witty answer which involves the correct answer.\n",
    "\n",
    "Example:\n",
    "\n",
    "            \"I bet you are GREEN with envy\"\n",
    "            \"You are probably feeling BLUE right now\"\n",
    "\n",
    "Ask them to guess again; If they have still not got it right, keep giving them the same clue and ask the user to enter a colour until they guess it correctly."
   ]
  },
  {
   "cell_type": "code",
   "execution_count": 40,
   "metadata": {},
   "outputs": [
    {
     "name": "stdout",
     "output_type": "stream",
     "text": [
      "Red\n",
      "Green\n",
      "Blue\n",
      "White\n",
      "Orange\n",
      "I bet you are GREEN with envy.\n",
      "Try Again!\n",
      "I bet you are GREEN with envy.\n",
      "Try Again!\n",
      "Well done!\n"
     ]
    }
   ],
   "source": [
    "colour_list = [\"red\",\"green\",\"blue\",\"white\",\"orange\"]\n",
    "comp_color = random.choice(colour_list)\n",
    "flag = True\n",
    "\n",
    "for colour in colour_list:\n",
    "\n",
    "    print(colour.title())\n",
    "\n",
    "while flag:\n",
    "\n",
    "    user_color = input(\"Choose a color in the given five: \")\n",
    "\n",
    "    if user_color.lower() == comp_color:\n",
    "        print(\"Well done!\")\n",
    "        flag = False\n",
    "    \n",
    "    else:\n",
    "\n",
    "        if comp_color == 'red':\n",
    "            print(\"Don't be {} as a tomato.\\nTry Again!\".format(comp_color.upper()))\n",
    "        \n",
    "        elif comp_color == 'green':\n",
    "            print(\"I bet you are {} with envy.\\nTry Again!\".format(comp_color.upper()))\n",
    "\n",
    "        elif comp_color == 'white':\n",
    "            print(\"As {} as a Polar Bear.\\nTry again!\".format(comp_color.upper()))\n",
    "\n",
    "        elif comp_color == 'blue':\n",
    "            print(\"You are probably {} right now.\\nTry Again!\".format(comp_color.upper()))\n",
    "\n",
    "        else:\n",
    "            print(\"Oranges are {} in color.\\nTry Again!\".format(comp_color.upper()))"
   ]
  }
 ],
 "metadata": {
  "kernelspec": {
   "display_name": "Python 3.9.12 ('base')",
   "language": "python",
   "name": "python3"
  },
  "language_info": {
   "codemirror_mode": {
    "name": "ipython",
    "version": 3
   },
   "file_extension": ".py",
   "mimetype": "text/x-python",
   "name": "python",
   "nbconvert_exporter": "python",
   "pygments_lexer": "ipython3",
   "version": "3.9.12"
  },
  "orig_nbformat": 4,
  "vscode": {
   "interpreter": {
    "hash": "aca1007d70b315df4c9b81801bc31c75ca1efa36944ab2281816f0b0b706cae3"
   }
  }
 },
 "nbformat": 4,
 "nbformat_minor": 2
}
